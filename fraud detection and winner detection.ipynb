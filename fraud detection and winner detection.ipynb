{
 "cells": [
  {
   "cell_type": "code",
   "execution_count": 1,
   "id": "animated-gross",
   "metadata": {},
   "outputs": [],
   "source": [
    "import pandas as pd\n",
    "import numpy as np\n",
    "\n",
    "import matplotlib.pyplot as plt\n",
    "import seaborn as sns\n",
    "from collections import Counter\n",
    "from imblearn.over_sampling import SMOTE\n",
    "\n",
    "from sklearn.model_selection import train_test_split\n",
    "from sklearn.naive_bayes import GaussianNB\n",
    "from sklearn.neighbors import KNeighborsClassifier\n",
    "from sklearn.ensemble import RandomForestClassifier\n",
    "from sklearn.tree import DecisionTreeClassifier\n",
    "from sklearn.model_selection import GridSearchCV\n",
    "from sklearn.svm import SVC\n",
    "\n",
    "from sklearn.metrics import classification_report,accuracy_score,precision_score, recall_score,f1_score\n"
   ]
  },
  {
   "cell_type": "code",
   "execution_count": 2,
   "id": "decreased-underwear",
   "metadata": {},
   "outputs": [],
   "source": [
    "df1= pd.read_csv('fake_job_postings.csv')\n",
    "df2= pd.read_csv('games.csv')"
   ]
  },
  {
   "cell_type": "markdown",
   "id": "fourth-piano",
   "metadata": {},
   "source": [
    "# Soal 1(a)"
   ]
  },
  {
   "cell_type": "markdown",
   "id": "unusual-diagnosis",
   "metadata": {},
   "source": [
    "# 1. Ringkasan mengenai data"
   ]
  },
  {
   "cell_type": "markdown",
   "id": "exposed-seller",
   "metadata": {},
   "source": [
    "### A) Deskripsi Setiap fitur"
   ]
  },
  {
   "cell_type": "code",
   "execution_count": 3,
   "id": "ambient-showcase",
   "metadata": {},
   "outputs": [
    {
     "data": {
      "text/html": [
       "<div>\n",
       "<style scoped>\n",
       "    .dataframe tbody tr th:only-of-type {\n",
       "        vertical-align: middle;\n",
       "    }\n",
       "\n",
       "    .dataframe tbody tr th {\n",
       "        vertical-align: top;\n",
       "    }\n",
       "\n",
       "    .dataframe thead th {\n",
       "        text-align: right;\n",
       "    }\n",
       "</style>\n",
       "<table border=\"1\" class=\"dataframe\">\n",
       "  <thead>\n",
       "    <tr style=\"text-align: right;\">\n",
       "      <th></th>\n",
       "      <th>job_id</th>\n",
       "      <th>telecommuting</th>\n",
       "      <th>has_company_logo</th>\n",
       "      <th>has_questions</th>\n",
       "      <th>fraudulent</th>\n",
       "    </tr>\n",
       "  </thead>\n",
       "  <tbody>\n",
       "    <tr>\n",
       "      <th>count</th>\n",
       "      <td>17880.000000</td>\n",
       "      <td>17880.000000</td>\n",
       "      <td>17880.000000</td>\n",
       "      <td>17880.000000</td>\n",
       "      <td>17880.000000</td>\n",
       "    </tr>\n",
       "    <tr>\n",
       "      <th>mean</th>\n",
       "      <td>8940.500000</td>\n",
       "      <td>0.042897</td>\n",
       "      <td>0.795302</td>\n",
       "      <td>0.491723</td>\n",
       "      <td>0.048434</td>\n",
       "    </tr>\n",
       "    <tr>\n",
       "      <th>std</th>\n",
       "      <td>5161.655742</td>\n",
       "      <td>0.202631</td>\n",
       "      <td>0.403492</td>\n",
       "      <td>0.499945</td>\n",
       "      <td>0.214688</td>\n",
       "    </tr>\n",
       "    <tr>\n",
       "      <th>min</th>\n",
       "      <td>1.000000</td>\n",
       "      <td>0.000000</td>\n",
       "      <td>0.000000</td>\n",
       "      <td>0.000000</td>\n",
       "      <td>0.000000</td>\n",
       "    </tr>\n",
       "    <tr>\n",
       "      <th>25%</th>\n",
       "      <td>4470.750000</td>\n",
       "      <td>0.000000</td>\n",
       "      <td>1.000000</td>\n",
       "      <td>0.000000</td>\n",
       "      <td>0.000000</td>\n",
       "    </tr>\n",
       "    <tr>\n",
       "      <th>50%</th>\n",
       "      <td>8940.500000</td>\n",
       "      <td>0.000000</td>\n",
       "      <td>1.000000</td>\n",
       "      <td>0.000000</td>\n",
       "      <td>0.000000</td>\n",
       "    </tr>\n",
       "    <tr>\n",
       "      <th>75%</th>\n",
       "      <td>13410.250000</td>\n",
       "      <td>0.000000</td>\n",
       "      <td>1.000000</td>\n",
       "      <td>1.000000</td>\n",
       "      <td>0.000000</td>\n",
       "    </tr>\n",
       "    <tr>\n",
       "      <th>max</th>\n",
       "      <td>17880.000000</td>\n",
       "      <td>1.000000</td>\n",
       "      <td>1.000000</td>\n",
       "      <td>1.000000</td>\n",
       "      <td>1.000000</td>\n",
       "    </tr>\n",
       "  </tbody>\n",
       "</table>\n",
       "</div>"
      ],
      "text/plain": [
       "             job_id  telecommuting  has_company_logo  has_questions  \\\n",
       "count  17880.000000   17880.000000      17880.000000   17880.000000   \n",
       "mean    8940.500000       0.042897          0.795302       0.491723   \n",
       "std     5161.655742       0.202631          0.403492       0.499945   \n",
       "min        1.000000       0.000000          0.000000       0.000000   \n",
       "25%     4470.750000       0.000000          1.000000       0.000000   \n",
       "50%     8940.500000       0.000000          1.000000       0.000000   \n",
       "75%    13410.250000       0.000000          1.000000       1.000000   \n",
       "max    17880.000000       1.000000          1.000000       1.000000   \n",
       "\n",
       "         fraudulent  \n",
       "count  17880.000000  \n",
       "mean       0.048434  \n",
       "std        0.214688  \n",
       "min        0.000000  \n",
       "25%        0.000000  \n",
       "50%        0.000000  \n",
       "75%        0.000000  \n",
       "max        1.000000  "
      ]
     },
     "execution_count": 3,
     "metadata": {},
     "output_type": "execute_result"
    }
   ],
   "source": [
    "# Melihat deskripsi statistik dari kelompok fitur numerik\n",
    "df1.describe()"
   ]
  },
  {
   "cell_type": "code",
   "execution_count": 4,
   "id": "fancy-bacon",
   "metadata": {},
   "outputs": [
    {
     "data": {
      "text/html": [
       "<div>\n",
       "<style scoped>\n",
       "    .dataframe tbody tr th:only-of-type {\n",
       "        vertical-align: middle;\n",
       "    }\n",
       "\n",
       "    .dataframe tbody tr th {\n",
       "        vertical-align: top;\n",
       "    }\n",
       "\n",
       "    .dataframe thead th {\n",
       "        text-align: right;\n",
       "    }\n",
       "</style>\n",
       "<table border=\"1\" class=\"dataframe\">\n",
       "  <thead>\n",
       "    <tr style=\"text-align: right;\">\n",
       "      <th></th>\n",
       "      <th>created_at</th>\n",
       "      <th>last_move_at</th>\n",
       "      <th>turns</th>\n",
       "      <th>white_rating</th>\n",
       "      <th>black_rating</th>\n",
       "      <th>opening_ply</th>\n",
       "    </tr>\n",
       "  </thead>\n",
       "  <tbody>\n",
       "    <tr>\n",
       "      <th>count</th>\n",
       "      <td>2.005800e+04</td>\n",
       "      <td>2.005800e+04</td>\n",
       "      <td>20058.000000</td>\n",
       "      <td>20058.000000</td>\n",
       "      <td>20058.000000</td>\n",
       "      <td>20058.000000</td>\n",
       "    </tr>\n",
       "    <tr>\n",
       "      <th>mean</th>\n",
       "      <td>1.483617e+12</td>\n",
       "      <td>1.483618e+12</td>\n",
       "      <td>60.465999</td>\n",
       "      <td>1596.631868</td>\n",
       "      <td>1588.831987</td>\n",
       "      <td>4.816981</td>\n",
       "    </tr>\n",
       "    <tr>\n",
       "      <th>std</th>\n",
       "      <td>2.850151e+10</td>\n",
       "      <td>2.850140e+10</td>\n",
       "      <td>33.570585</td>\n",
       "      <td>291.253376</td>\n",
       "      <td>291.036126</td>\n",
       "      <td>2.797152</td>\n",
       "    </tr>\n",
       "    <tr>\n",
       "      <th>min</th>\n",
       "      <td>1.376772e+12</td>\n",
       "      <td>1.376772e+12</td>\n",
       "      <td>1.000000</td>\n",
       "      <td>784.000000</td>\n",
       "      <td>789.000000</td>\n",
       "      <td>1.000000</td>\n",
       "    </tr>\n",
       "    <tr>\n",
       "      <th>25%</th>\n",
       "      <td>1.477548e+12</td>\n",
       "      <td>1.477548e+12</td>\n",
       "      <td>37.000000</td>\n",
       "      <td>1398.000000</td>\n",
       "      <td>1391.000000</td>\n",
       "      <td>3.000000</td>\n",
       "    </tr>\n",
       "    <tr>\n",
       "      <th>50%</th>\n",
       "      <td>1.496010e+12</td>\n",
       "      <td>1.496010e+12</td>\n",
       "      <td>55.000000</td>\n",
       "      <td>1567.000000</td>\n",
       "      <td>1562.000000</td>\n",
       "      <td>4.000000</td>\n",
       "    </tr>\n",
       "    <tr>\n",
       "      <th>75%</th>\n",
       "      <td>1.503170e+12</td>\n",
       "      <td>1.503170e+12</td>\n",
       "      <td>79.000000</td>\n",
       "      <td>1793.000000</td>\n",
       "      <td>1784.000000</td>\n",
       "      <td>6.000000</td>\n",
       "    </tr>\n",
       "    <tr>\n",
       "      <th>max</th>\n",
       "      <td>1.504493e+12</td>\n",
       "      <td>1.504494e+12</td>\n",
       "      <td>349.000000</td>\n",
       "      <td>2700.000000</td>\n",
       "      <td>2723.000000</td>\n",
       "      <td>28.000000</td>\n",
       "    </tr>\n",
       "  </tbody>\n",
       "</table>\n",
       "</div>"
      ],
      "text/plain": [
       "         created_at  last_move_at         turns  white_rating  black_rating  \\\n",
       "count  2.005800e+04  2.005800e+04  20058.000000  20058.000000  20058.000000   \n",
       "mean   1.483617e+12  1.483618e+12     60.465999   1596.631868   1588.831987   \n",
       "std    2.850151e+10  2.850140e+10     33.570585    291.253376    291.036126   \n",
       "min    1.376772e+12  1.376772e+12      1.000000    784.000000    789.000000   \n",
       "25%    1.477548e+12  1.477548e+12     37.000000   1398.000000   1391.000000   \n",
       "50%    1.496010e+12  1.496010e+12     55.000000   1567.000000   1562.000000   \n",
       "75%    1.503170e+12  1.503170e+12     79.000000   1793.000000   1784.000000   \n",
       "max    1.504493e+12  1.504494e+12    349.000000   2700.000000   2723.000000   \n",
       "\n",
       "        opening_ply  \n",
       "count  20058.000000  \n",
       "mean       4.816981  \n",
       "std        2.797152  \n",
       "min        1.000000  \n",
       "25%        3.000000  \n",
       "50%        4.000000  \n",
       "75%        6.000000  \n",
       "max       28.000000  "
      ]
     },
     "execution_count": 4,
     "metadata": {},
     "output_type": "execute_result"
    }
   ],
   "source": [
    "df2.describe()"
   ]
  },
  {
   "cell_type": "code",
   "execution_count": 5,
   "id": "upper-wages",
   "metadata": {},
   "outputs": [
    {
     "data": {
      "text/html": [
       "<div>\n",
       "<style scoped>\n",
       "    .dataframe tbody tr th:only-of-type {\n",
       "        vertical-align: middle;\n",
       "    }\n",
       "\n",
       "    .dataframe tbody tr th {\n",
       "        vertical-align: top;\n",
       "    }\n",
       "\n",
       "    .dataframe thead th {\n",
       "        text-align: right;\n",
       "    }\n",
       "</style>\n",
       "<table border=\"1\" class=\"dataframe\">\n",
       "  <thead>\n",
       "    <tr style=\"text-align: right;\">\n",
       "      <th></th>\n",
       "      <th>title</th>\n",
       "      <th>location</th>\n",
       "      <th>department</th>\n",
       "      <th>salary_range</th>\n",
       "      <th>company_profile</th>\n",
       "      <th>description</th>\n",
       "      <th>requirements</th>\n",
       "      <th>benefits</th>\n",
       "      <th>employment_type</th>\n",
       "      <th>required_experience</th>\n",
       "      <th>required_education</th>\n",
       "      <th>industry</th>\n",
       "      <th>function</th>\n",
       "    </tr>\n",
       "  </thead>\n",
       "  <tbody>\n",
       "    <tr>\n",
       "      <th>count</th>\n",
       "      <td>17880</td>\n",
       "      <td>17534</td>\n",
       "      <td>6333</td>\n",
       "      <td>2868</td>\n",
       "      <td>14572</td>\n",
       "      <td>17879</td>\n",
       "      <td>15185</td>\n",
       "      <td>10670</td>\n",
       "      <td>14409</td>\n",
       "      <td>10830</td>\n",
       "      <td>9775</td>\n",
       "      <td>12977</td>\n",
       "      <td>11425</td>\n",
       "    </tr>\n",
       "    <tr>\n",
       "      <th>unique</th>\n",
       "      <td>11231</td>\n",
       "      <td>3105</td>\n",
       "      <td>1337</td>\n",
       "      <td>874</td>\n",
       "      <td>1709</td>\n",
       "      <td>14801</td>\n",
       "      <td>11968</td>\n",
       "      <td>6205</td>\n",
       "      <td>5</td>\n",
       "      <td>7</td>\n",
       "      <td>13</td>\n",
       "      <td>131</td>\n",
       "      <td>37</td>\n",
       "    </tr>\n",
       "    <tr>\n",
       "      <th>top</th>\n",
       "      <td>English Teacher Abroad</td>\n",
       "      <td>GB, LND, London</td>\n",
       "      <td>Sales</td>\n",
       "      <td>0-0</td>\n",
       "      <td>We help teachers get safe &amp;amp; secure jobs ab...</td>\n",
       "      <td>Play with kids, get paid for it Love travel? J...</td>\n",
       "      <td>University degree required. TEFL / TESOL / CEL...</td>\n",
       "      <td>See job description</td>\n",
       "      <td>Full-time</td>\n",
       "      <td>Mid-Senior level</td>\n",
       "      <td>Bachelor's Degree</td>\n",
       "      <td>Information Technology and Services</td>\n",
       "      <td>Information Technology</td>\n",
       "    </tr>\n",
       "    <tr>\n",
       "      <th>freq</th>\n",
       "      <td>311</td>\n",
       "      <td>718</td>\n",
       "      <td>551</td>\n",
       "      <td>142</td>\n",
       "      <td>726</td>\n",
       "      <td>379</td>\n",
       "      <td>410</td>\n",
       "      <td>726</td>\n",
       "      <td>11620</td>\n",
       "      <td>3809</td>\n",
       "      <td>5145</td>\n",
       "      <td>1734</td>\n",
       "      <td>1749</td>\n",
       "    </tr>\n",
       "  </tbody>\n",
       "</table>\n",
       "</div>"
      ],
      "text/plain": [
       "                          title         location department salary_range  \\\n",
       "count                     17880            17534       6333         2868   \n",
       "unique                    11231             3105       1337          874   \n",
       "top     English Teacher Abroad   GB, LND, London      Sales          0-0   \n",
       "freq                        311              718        551          142   \n",
       "\n",
       "                                          company_profile  \\\n",
       "count                                               14572   \n",
       "unique                                               1709   \n",
       "top     We help teachers get safe &amp; secure jobs ab...   \n",
       "freq                                                  726   \n",
       "\n",
       "                                              description  \\\n",
       "count                                               17879   \n",
       "unique                                              14801   \n",
       "top     Play with kids, get paid for it Love travel? J...   \n",
       "freq                                                  379   \n",
       "\n",
       "                                             requirements  \\\n",
       "count                                               15185   \n",
       "unique                                              11968   \n",
       "top     University degree required. TEFL / TESOL / CEL...   \n",
       "freq                                                  410   \n",
       "\n",
       "                   benefits employment_type required_experience  \\\n",
       "count                 10670           14409               10830   \n",
       "unique                 6205               5                   7   \n",
       "top     See job description       Full-time    Mid-Senior level   \n",
       "freq                    726           11620                3809   \n",
       "\n",
       "       required_education                             industry  \\\n",
       "count                9775                                12977   \n",
       "unique                 13                                  131   \n",
       "top     Bachelor's Degree  Information Technology and Services   \n",
       "freq                 5145                                 1734   \n",
       "\n",
       "                      function  \n",
       "count                    11425  \n",
       "unique                      37  \n",
       "top     Information Technology  \n",
       "freq                      1749  "
      ]
     },
     "metadata": {},
     "output_type": "display_data"
    }
   ],
   "source": [
    "# Melihat deskripsi statistik dari kelompok fitur kategorik\n",
    "display(df1.describe(include=object))"
   ]
  },
  {
   "cell_type": "code",
   "execution_count": 6,
   "id": "amazing-apollo",
   "metadata": {},
   "outputs": [
    {
     "data": {
      "text/html": [
       "<div>\n",
       "<style scoped>\n",
       "    .dataframe tbody tr th:only-of-type {\n",
       "        vertical-align: middle;\n",
       "    }\n",
       "\n",
       "    .dataframe tbody tr th {\n",
       "        vertical-align: top;\n",
       "    }\n",
       "\n",
       "    .dataframe thead th {\n",
       "        text-align: right;\n",
       "    }\n",
       "</style>\n",
       "<table border=\"1\" class=\"dataframe\">\n",
       "  <thead>\n",
       "    <tr style=\"text-align: right;\">\n",
       "      <th></th>\n",
       "      <th>id</th>\n",
       "      <th>victory_status</th>\n",
       "      <th>winner</th>\n",
       "      <th>increment_code</th>\n",
       "      <th>white_id</th>\n",
       "      <th>black_id</th>\n",
       "      <th>moves</th>\n",
       "      <th>opening_eco</th>\n",
       "      <th>opening_name</th>\n",
       "    </tr>\n",
       "  </thead>\n",
       "  <tbody>\n",
       "    <tr>\n",
       "      <th>count</th>\n",
       "      <td>20058</td>\n",
       "      <td>20058</td>\n",
       "      <td>20058</td>\n",
       "      <td>20058</td>\n",
       "      <td>20058</td>\n",
       "      <td>20058</td>\n",
       "      <td>20058</td>\n",
       "      <td>20058</td>\n",
       "      <td>20058</td>\n",
       "    </tr>\n",
       "    <tr>\n",
       "      <th>unique</th>\n",
       "      <td>19113</td>\n",
       "      <td>4</td>\n",
       "      <td>3</td>\n",
       "      <td>400</td>\n",
       "      <td>9438</td>\n",
       "      <td>9331</td>\n",
       "      <td>18920</td>\n",
       "      <td>365</td>\n",
       "      <td>1477</td>\n",
       "    </tr>\n",
       "    <tr>\n",
       "      <th>top</th>\n",
       "      <td>XRuQPSzH</td>\n",
       "      <td>resign</td>\n",
       "      <td>white</td>\n",
       "      <td>10+0</td>\n",
       "      <td>taranga</td>\n",
       "      <td>taranga</td>\n",
       "      <td>e4 e5</td>\n",
       "      <td>A00</td>\n",
       "      <td>Van't Kruijs Opening</td>\n",
       "    </tr>\n",
       "    <tr>\n",
       "      <th>freq</th>\n",
       "      <td>5</td>\n",
       "      <td>11147</td>\n",
       "      <td>10001</td>\n",
       "      <td>7721</td>\n",
       "      <td>72</td>\n",
       "      <td>82</td>\n",
       "      <td>27</td>\n",
       "      <td>1007</td>\n",
       "      <td>368</td>\n",
       "    </tr>\n",
       "  </tbody>\n",
       "</table>\n",
       "</div>"
      ],
      "text/plain": [
       "              id victory_status winner increment_code white_id black_id  \\\n",
       "count      20058          20058  20058          20058    20058    20058   \n",
       "unique     19113              4      3            400     9438     9331   \n",
       "top     XRuQPSzH         resign  white           10+0  taranga  taranga   \n",
       "freq           5          11147  10001           7721       72       82   \n",
       "\n",
       "        moves opening_eco          opening_name  \n",
       "count   20058       20058                 20058  \n",
       "unique  18920         365                  1477  \n",
       "top     e4 e5         A00  Van't Kruijs Opening  \n",
       "freq       27        1007                   368  "
      ]
     },
     "metadata": {},
     "output_type": "display_data"
    }
   ],
   "source": [
    "display(df2.describe(include=object))"
   ]
  },
  {
   "cell_type": "markdown",
   "id": "optical-parallel",
   "metadata": {},
   "source": [
    "### B) Jumlah Atribut"
   ]
  },
  {
   "cell_type": "code",
   "execution_count": 7,
   "id": "exotic-leisure",
   "metadata": {},
   "outputs": [
    {
     "name": "stdout",
     "output_type": "stream",
     "text": [
      "<class 'pandas.core.frame.DataFrame'>\n",
      "RangeIndex: 17880 entries, 0 to 17879\n",
      "Data columns (total 18 columns):\n",
      " #   Column               Non-Null Count  Dtype \n",
      "---  ------               --------------  ----- \n",
      " 0   job_id               17880 non-null  int64 \n",
      " 1   title                17880 non-null  object\n",
      " 2   location             17534 non-null  object\n",
      " 3   department           6333 non-null   object\n",
      " 4   salary_range         2868 non-null   object\n",
      " 5   company_profile      14572 non-null  object\n",
      " 6   description          17879 non-null  object\n",
      " 7   requirements         15185 non-null  object\n",
      " 8   benefits             10670 non-null  object\n",
      " 9   telecommuting        17880 non-null  int64 \n",
      " 10  has_company_logo     17880 non-null  int64 \n",
      " 11  has_questions        17880 non-null  int64 \n",
      " 12  employment_type      14409 non-null  object\n",
      " 13  required_experience  10830 non-null  object\n",
      " 14  required_education   9775 non-null   object\n",
      " 15  industry             12977 non-null  object\n",
      " 16  function             11425 non-null  object\n",
      " 17  fraudulent           17880 non-null  int64 \n",
      "dtypes: int64(5), object(13)\n",
      "memory usage: 2.5+ MB\n"
     ]
    }
   ],
   "source": [
    "df1.info()"
   ]
  },
  {
   "cell_type": "markdown",
   "id": "hollywood-drill",
   "metadata": {},
   "source": [
    "> Pada dataset fake_job_postings.csv terlihat bahwa mempunyai 5 atribut numerik dan 13 atribut object. Total  pada dataset tersebut memiliki 18 atribut."
   ]
  },
  {
   "cell_type": "code",
   "execution_count": 8,
   "id": "equal-crest",
   "metadata": {},
   "outputs": [
    {
     "name": "stdout",
     "output_type": "stream",
     "text": [
      "<class 'pandas.core.frame.DataFrame'>\n",
      "RangeIndex: 20058 entries, 0 to 20057\n",
      "Data columns (total 16 columns):\n",
      " #   Column          Non-Null Count  Dtype  \n",
      "---  ------          --------------  -----  \n",
      " 0   id              20058 non-null  object \n",
      " 1   rated           20058 non-null  bool   \n",
      " 2   created_at      20058 non-null  float64\n",
      " 3   last_move_at    20058 non-null  float64\n",
      " 4   turns           20058 non-null  int64  \n",
      " 5   victory_status  20058 non-null  object \n",
      " 6   winner          20058 non-null  object \n",
      " 7   increment_code  20058 non-null  object \n",
      " 8   white_id        20058 non-null  object \n",
      " 9   white_rating    20058 non-null  int64  \n",
      " 10  black_id        20058 non-null  object \n",
      " 11  black_rating    20058 non-null  int64  \n",
      " 12  moves           20058 non-null  object \n",
      " 13  opening_eco     20058 non-null  object \n",
      " 14  opening_name    20058 non-null  object \n",
      " 15  opening_ply     20058 non-null  int64  \n",
      "dtypes: bool(1), float64(2), int64(4), object(9)\n",
      "memory usage: 2.3+ MB\n"
     ]
    }
   ],
   "source": [
    "df2.info()"
   ]
  },
  {
   "cell_type": "markdown",
   "id": "absolute-brighton",
   "metadata": {},
   "source": [
    "Pada dataset games.csv terlihat bahwa mempunyai 6 atribut numerik dan 10 atribut object. Total pada dataset tersebut memiliki 16 atribut."
   ]
  },
  {
   "cell_type": "markdown",
   "id": "social-renaissance",
   "metadata": {},
   "source": [
    "### C) Jumlah Data "
   ]
  },
  {
   "cell_type": "code",
   "execution_count": 9,
   "id": "included-quilt",
   "metadata": {},
   "outputs": [
    {
     "name": "stdout",
     "output_type": "stream",
     "text": [
      "(17880, 18)\n",
      "(20058, 16)\n"
     ]
    }
   ],
   "source": [
    "print(df1.shape)\n",
    "print(df2.shape)"
   ]
  },
  {
   "cell_type": "markdown",
   "id": "trying-afghanistan",
   "metadata": {},
   "source": [
    "### D) Missing Values"
   ]
  },
  {
   "cell_type": "code",
   "execution_count": 10,
   "id": "identified-confidentiality",
   "metadata": {},
   "outputs": [
    {
     "name": "stdout",
     "output_type": "stream",
     "text": [
      "Missing Values pada fake_job_postings.csv\n",
      "                     Total   Percent\n",
      "salary_range         15012  0.839597\n",
      "department           11547  0.645805\n",
      "required_education    8105  0.453300\n",
      "benefits              7210  0.403244\n",
      "required_experience   7050  0.394295\n",
      "function              6455  0.361018\n",
      "industry              4903  0.274217\n",
      "employment_type       3471  0.194128\n",
      "company_profile       3308  0.185011\n",
      "requirements          2695  0.150727\n",
      "location               346  0.019351\n",
      "description              1  0.000056\n",
      "None\n",
      "--------------------\n",
      "Missing Values pada games.csv\n",
      "Empty DataFrame\n",
      "Columns: [Total, Percent]\n",
      "Index: []\n",
      "None\n"
     ]
    }
   ],
   "source": [
    "def cek_missing_values(data):\n",
    "    col_na = data.isnull().sum().sort_values(ascending=False)\n",
    "    percent = col_na / len(data)\n",
    "    \n",
    "    missing_data = pd.concat([col_na, percent], axis=1, keys=['Total', 'Percent'])\n",
    "    print(missing_data[missing_data['Total'] > 0])\n",
    "\n",
    "print(\"Missing Values pada fake_job_postings.csv\")\n",
    "print(cek_missing_values(df1))\n",
    "print(\"--------------------\")\n",
    "print(\"Missing Values pada games.csv\")\n",
    "print(cek_missing_values(df2))"
   ]
  },
  {
   "cell_type": "markdown",
   "id": "forty-chuck",
   "metadata": {},
   "source": [
    "> Dari data diatas terlihat bahwa beberapa data invalid disetiap firu"
   ]
  },
  {
   "cell_type": "markdown",
   "id": "tender-pennsylvania",
   "metadata": {},
   "source": [
    "### E) Jumlah duplikasi data"
   ]
  },
  {
   "cell_type": "code",
   "execution_count": 11,
   "id": "pursuant-hypothesis",
   "metadata": {},
   "outputs": [
    {
     "name": "stdout",
     "output_type": "stream",
     "text": [
      "0\n",
      "429\n"
     ]
    }
   ],
   "source": [
    "print(df1.duplicated().sum())\n",
    "print(df2.duplicated().sum())"
   ]
  },
  {
   "cell_type": "markdown",
   "id": "toxic-water",
   "metadata": {},
   "source": [
    "### E) Kemungkinan adanya outlier"
   ]
  },
  {
   "cell_type": "code",
   "execution_count": 12,
   "id": "fitted-comedy",
   "metadata": {},
   "outputs": [],
   "source": [
    "num_cols_1 = df1.select_dtypes([np.number])\n",
    "num_cols_2 = df2.select_dtypes([np.number])"
   ]
  },
  {
   "cell_type": "code",
   "execution_count": 13,
   "id": "exceptional-supervision",
   "metadata": {},
   "outputs": [
    {
     "name": "stdout",
     "output_type": "stream",
     "text": [
      "Outlier pada fake_job_postings.csv\n",
      "telecommuting =  767\n",
      "has_company_logo =  3660\n",
      "fraudulent =  866\n",
      "None\n",
      "--------------------\n",
      "Outlier pada games.csv\n",
      "created_at =  1939\n",
      "last_move_at =  1939\n",
      "turns =  428\n",
      "white_rating =  135\n",
      "black_rating =  91\n",
      "opening_ply =  899\n",
      "None\n"
     ]
    }
   ],
   "source": [
    "list_outlier = []\n",
    "def cek_outlier(data):\n",
    "    for i in data.columns:\n",
    "        Q1 = data[i].quantile(0.25)\n",
    "        Q3 = data[i].quantile(0.75)\n",
    "        IQR = Q3-Q1\n",
    "        RLB = Q1-1.5*IQR\n",
    "        RUB = Q3+1.5*IQR\n",
    "        count_outlier = ((data[i]<RLB) | (data[i]>RUB)).sum()\n",
    "        if count_outlier > 0 :\n",
    "            print(i + \" =  \" + str(count_outlier))\n",
    "            list_outlier.append(i)\n",
    "\n",
    "print(\"Outlier pada fake_job_postings.csv\")\n",
    "print(cek_outlier(num_cols_1))\n",
    "print(\"--------------------\")\n",
    "print(\"Outlier pada games.csv\")\n",
    "print(cek_outlier(num_cols_2))"
   ]
  },
  {
   "cell_type": "markdown",
   "id": "practical-essay",
   "metadata": {},
   "source": [
    "> Dari hasil diatas terlihat bahwa banyak atribute yang mempunyai outlier"
   ]
  },
  {
   "cell_type": "markdown",
   "id": "binary-passport",
   "metadata": {},
   "source": [
    "# 2. Eksplorasi data"
   ]
  },
  {
   "cell_type": "markdown",
   "id": "incomplete-soccer",
   "metadata": {},
   "source": [
    "### 1) Visualisasi histogram "
   ]
  },
  {
   "cell_type": "markdown",
   "id": "american-floor",
   "metadata": {},
   "source": [
    "Untuk data set fake_job_postings.csv, diantara fitur numerik, hanya <b>fitur telecommuting,has_company_logo,dan has_questions</b> yang mempengaruhi hasil.Hal itu sisebabkan karena fitur job_id unik yang bukan fitur yang mempengaruhi hasil dan fitur fraudulent    yang merupakan target kita dalam memprediksi sehingga kedua fitur tersebut tidak mempengaruhi hasil."
   ]
  },
  {
   "cell_type": "code",
   "execution_count": 14,
   "id": "declared-expert",
   "metadata": {},
   "outputs": [
    {
     "data": {
      "image/png": "[encoded data removed]",
      "text/plain": [
       "<Figure size 1080x720 with 4 Axes>"
      ]
     },
     "metadata": {
      "needs_background": "light"
     },
     "output_type": "display_data"
    }
   ],
   "source": [
    "num_cols_features = num_cols_1.drop(columns=['job_id'],axis=1)\n",
    "num_cols_features.hist(bins=50, figsize=(15,10))\n",
    "plt.show()"
   ]
  },
  {
   "cell_type": "code",
   "execution_count": 15,
   "id": "vital-difficulty",
   "metadata": {},
   "outputs": [
    {
     "data": {
      "text/plain": [
       "<seaborn.axisgrid.FacetGrid at 0x20e6da2fa48>"
      ]
     },
     "execution_count": 15,
     "metadata": {},
     "output_type": "execute_result"
    },
    {
     "data": {
      "image/png": "[encoded data removed]",
      "text/plain": [
       "<Figure size 1440x1440 with 13 Axes>"
      ]
     },
     "metadata": {
      "needs_background": "light"
     },
     "output_type": "display_data"
    }
   ],
   "source": [
    "sns.catplot(x=\"fraudulent\",col=\"required_education\",data=df1,col_wrap=4,kind=\"count\")"
   ]
  },
  {
   "cell_type": "code",
   "execution_count": 16,
   "id": "determined-welding",
   "metadata": {},
   "outputs": [
    {
     "data": {
      "text/plain": [
       "<seaborn.axisgrid.FacetGrid at 0x20e6e4d9808>"
      ]
     },
     "execution_count": 16,
     "metadata": {},
     "output_type": "execute_result"
    },
    {
     "data": {
      "image/png": "[encoded data removed]",
      "text/plain": [
       "<Figure size 1440x720 with 7 Axes>"
      ]
     },
     "metadata": {
      "needs_background": "light"
     },
     "output_type": "display_data"
    }
   ],
   "source": [
    "sns.catplot(x=\"fraudulent\",col=\"required_experience\",data=df1,col_wrap=4,kind=\"count\")"
   ]
  },
  {
   "cell_type": "code",
   "execution_count": 17,
   "id": "buried-botswana",
   "metadata": {},
   "outputs": [
    {
     "data": {
      "text/plain": [
       "<seaborn.axisgrid.FacetGrid at 0x20e6d909088>"
      ]
     },
     "execution_count": 17,
     "metadata": {},
     "output_type": "execute_result"
    },
    {
     "data": {
      "image/png": "[encoded data removed]",
      "text/plain": [
       "<Figure size 1440x720 with 5 Axes>"
      ]
     },
     "metadata": {
      "needs_background": "light"
     },
     "output_type": "display_data"
    }
   ],
   "source": [
    "sns.catplot(x=\"fraudulent\",col=\"employment_type\",data=df1,col_wrap=4,kind=\"count\")"
   ]
  },
  {
   "cell_type": "markdown",
   "id": "worth-italian",
   "metadata": {},
   "source": [
    "Untuk data set games.csv, semua fitur numerik dapat mempengaruhi hasil. Oleh karena histogram dari setiap fitur dapat\n",
    "dilihat sebagai berikut"
   ]
  },
  {
   "cell_type": "code",
   "execution_count": 18,
   "id": "expressed-oasis",
   "metadata": {},
   "outputs": [
    {
     "data": {
      "image/png": "[encoded data removed]",
      "text/plain": [
       "<Figure size 1080x720 with 6 Axes>"
      ]
     },
     "metadata": {
      "needs_background": "light"
     },
     "output_type": "display_data"
    }
   ],
   "source": [
    "num_cols_2.hist(bins=50, figsize=(15,10))\n",
    "plt.show()"
   ]
  },
  {
   "cell_type": "markdown",
   "id": "adequate-surprise",
   "metadata": {},
   "source": [
    "> Dari data diatas terlihat bahwa terdapat beberapa distribusi normal, distribusi kekanan, dan distribusi kekiri pada dataset\n",
    "games.csv"
   ]
  },
  {
   "cell_type": "code",
   "execution_count": 19,
   "id": "therapeutic-function",
   "metadata": {},
   "outputs": [
    {
     "data": {
      "text/plain": [
       "<seaborn.axisgrid.FacetGrid at 0x20e724f9508>"
      ]
     },
     "execution_count": 19,
     "metadata": {},
     "output_type": "execute_result"
    },
    {
     "data": {
      "image/png": "[encoded data removed]",
      "text/plain": [
       "<Figure size 1440x360 with 4 Axes>"
      ]
     },
     "metadata": {
      "needs_background": "light"
     },
     "output_type": "display_data"
    }
   ],
   "source": [
    "sns.catplot(x=\"winner\",col='victory_status',col_wrap=4,data=df2,kind=\"count\")"
   ]
  },
  {
   "cell_type": "markdown",
   "id": "ignored-wrapping",
   "metadata": {},
   "source": [
    "### 2) Korelasi antar fitur numerik"
   ]
  },
  {
   "cell_type": "code",
   "execution_count": 20,
   "id": "extraordinary-silver",
   "metadata": {
    "scrolled": true
   },
   "outputs": [
    {
     "data": {
      "text/plain": [
       "Text(0.5, 1.0, 'Korelasi fitur numerik fake job_postings ')"
      ]
     },
     "execution_count": 20,
     "metadata": {},
     "output_type": "execute_result"
    },
    {
     "data": {
      "image/png": "[encoded data removed]",
      "text/plain": [
       "<Figure size 1080x360 with 2 Axes>"
      ]
     },
     "metadata": {
      "needs_background": "light"
     },
     "output_type": "display_data"
    }
   ],
   "source": [
    "plt.figure(figsize=(15,5))\n",
    "\n",
    "sns.heatmap(num_cols_1.corr(), \n",
    "        annot=True,\n",
    "        cmap=plt.cm.Blues,\n",
    "        xticklabels=df1.select_dtypes(np.number).columns,\n",
    "        yticklabels=df1.select_dtypes(np.number).columns)\n",
    "plt.title(\"Korelasi fitur numerik fake job_postings \")"
   ]
  },
  {
   "cell_type": "markdown",
   "id": "auburn-watson",
   "metadata": {},
   "source": [
    "> Dari data diatas terlihat bahwa tidak terdapat korelasi yang tinggi antar fitur sehingga kita tidak perlu melakukan\n",
    "aksi apapun terhadap fitur-fitur tersebut"
   ]
  },
  {
   "cell_type": "code",
   "execution_count": 21,
   "id": "funky-frontier",
   "metadata": {},
   "outputs": [
    {
     "data": {
      "text/plain": [
       "Text(0.5, 1.0, 'Korelasi fitur numerik games chess')"
      ]
     },
     "execution_count": 21,
     "metadata": {},
     "output_type": "execute_result"
    },
    {
     "data": {
      "image/png": "[encoded data removed]",
      "text/plain": [
       "<Figure size 1080x360 with 2 Axes>"
      ]
     },
     "metadata": {
      "needs_background": "light"
     },
     "output_type": "display_data"
    }
   ],
   "source": [
    "plt.figure(figsize=(15,5))\n",
    "\n",
    "sns.heatmap(num_cols_2.corr(), \n",
    "        annot=True,\n",
    "        cmap=plt.cm.Blues,\n",
    "        xticklabels=df2.select_dtypes(np.number).columns,\n",
    "        yticklabels=df2.select_dtypes(np.number).columns)\n",
    "plt.title(\"Korelasi fitur numerik games chess\")"
   ]
  },
  {
   "cell_type": "markdown",
   "id": "experienced-responsibility",
   "metadata": {},
   "source": [
    "> Dari diatas dapat terlihat bahwa terdapat korelasi fitur yang tinggi antara created_at dan last_move_at.\n",
    "Hal itu masuk akal karena ketika kita analisis lagi fitur tersebut waktu mulaiakan mempunyai korelasi yang tinggi dengan waktu berakhir. Semakin cepat waktu mulai, semakin cepat juga waktu berakhir dan begitupun sebaliknya. Oleh karena itu, kita dapat hanya mengambil salah satu dari fitur tersebut sebagai fitur2 yang mempengaruhi dalam prediksi target"
   ]
  },
  {
   "cell_type": "markdown",
   "id": "presidential-africa",
   "metadata": {},
   "source": [
    "### 3) Visualisasi scatterplot"
   ]
  },
  {
   "cell_type": "markdown",
   "id": "innovative-clark",
   "metadata": {},
   "source": [
    "Kita dapat melihat scatterplot atribut untuk melihat korelasi antar fitur. Dari visualisasi dibawah ini terlihat fitur white rating dan black rating mempunyai korelasi yang positif dan juga terdapat beberapa outlier di fitur tersebut"
   ]
  },
  {
   "cell_type": "code",
   "execution_count": 22,
   "id": "persistent-authority",
   "metadata": {},
   "outputs": [
    {
     "data": {
      "image/png": "[encoded data removed]",
      "text/plain": [
       "<Figure size 432x288 with 1 Axes>"
      ]
     },
     "metadata": {
      "needs_background": "light"
     },
     "output_type": "display_data"
    }
   ],
   "source": [
    "plt.title('White vs. Black')\n",
    "plt.xlabel('White')\n",
    "plt.ylabel('Black')\n",
    "plt.scatter(df2['white_rating'], df2['black_rating'])\n",
    "plt.show()"
   ]
  },
  {
   "cell_type": "markdown",
   "id": "variable-comedy",
   "metadata": {},
   "source": [
    "# Soal 1(b)"
   ]
  },
  {
   "cell_type": "markdown",
   "id": "corresponding-feedback",
   "metadata": {},
   "source": [
    "### Atribut yang  berpengaruh terhadap target class dan dapat menghasilkan metrik pengukuran error terkecil. "
   ]
  },
  {
   "cell_type": "markdown",
   "id": "mental-panel",
   "metadata": {},
   "source": [
    "#### a. Dataset fake_job_postings\n",
    "Berdasarkan eksplorasi sebelumnya, terlihat bahwa fitur2 yang menurut saya berpengaruh dalam mendeteksi asli atau palsu sebuah postingan pekerjaan dan dapat menghasilkan metrik pengukuran error terkecil adalah :\n",
    "Fitur employment_type, required_experience, required_education."
   ]
  },
  {
   "cell_type": "markdown",
   "id": "ahead-modem",
   "metadata": {},
   "source": [
    "#### b.Dataset games chess"
   ]
  },
  {
   "cell_type": "markdown",
   "id": "artistic-posting",
   "metadata": {},
   "source": [
    "Berdasarkan eksplorasi sebelumnya, terlihat bahwa fitur2 yang menurut saya berpengaruh dalam  mendeteksi target pemenang dalam permainan chess dan dapat menghasilkan metrik pengukuran error terkecil adalah : Fitur victory_status."
   ]
  },
  {
   "cell_type": "markdown",
   "id": "systematic-shift",
   "metadata": {},
   "source": [
    "# Soal 2(a)"
   ]
  },
  {
   "cell_type": "markdown",
   "id": "lesbian-tunnel",
   "metadata": {},
   "source": [
    "# 3. Data Preprocessing And Feature Engineering"
   ]
  },
  {
   "cell_type": "markdown",
   "id": "psychological-commitment",
   "metadata": {},
   "source": [
    "### A. Menangani Missing Values"
   ]
  },
  {
   "cell_type": "markdown",
   "id": "collaborative-differential",
   "metadata": {},
   "source": [
    "> Dari pengecekan diatas terlihat bahwa hanya dataset fake_job_postings yang memiliki missing values.\n",
    "Oleh karena itu kita hanya akan melakukan penanganan missing values pada dataset fake_job_postings sja."
   ]
  },
  {
   "cell_type": "markdown",
   "id": "requested-killing",
   "metadata": {},
   "source": [
    "- Fitur yang mempengaruhi dalam memprediksi target adalah telecommuting, has_company_logo, has_questions , location,department,salary_range,employment_type, required_experience, required_education, industry, dan function.\n",
    "- Hal itu dipertimbangkan karena saya tidak menggunakan NLP pada project ini lalu saya juga mempertimbangkan bagaimana terlalu banyak missing values sehingga lebih baik di drop saja fiturnya\n",
    "- Oleh karena itu, kita hanya perlu menangani missing values pada employment_type, required_experience, required_education, industry, dan function "
   ]
  },
  {
   "cell_type": "code",
   "execution_count": 23,
   "id": "unlikely-pottery",
   "metadata": {},
   "outputs": [
    {
     "name": "stdout",
     "output_type": "stream",
     "text": [
      "                     Total   Percent\n",
      "department           11547  0.645805\n",
      "required_education    8105  0.453300\n",
      "required_experience   7050  0.394295\n",
      "function              6455  0.361018\n",
      "industry              4903  0.274217\n",
      "employment_type       3471  0.194128\n",
      "location               346  0.019351\n"
     ]
    }
   ],
   "source": [
    "df1_new = df1.drop(['job_id','title','company_profile','description','requirements','benefits','salary_range'], axis=1)\n",
    "cek_missing_values(df1_new)"
   ]
  },
  {
   "cell_type": "markdown",
   "id": "attractive-ozone",
   "metadata": {},
   "source": [
    "Saya isi missing values fitur dengan modusnya"
   ]
  },
  {
   "cell_type": "code",
   "execution_count": 24,
   "id": "independent-acoustic",
   "metadata": {},
   "outputs": [
    {
     "name": "stdout",
     "output_type": "stream",
     "text": [
      "Empty DataFrame\n",
      "Columns: [Total, Percent]\n",
      "Index: []\n"
     ]
    }
   ],
   "source": [
    "for c in df1_new:\n",
    "    df1_new[c] = df1_new[c].fillna(df1_new[c].value_counts().index[0])\n",
    "cek_missing_values(df1_new)"
   ]
  },
  {
   "cell_type": "markdown",
   "id": "metropolitan-nitrogen",
   "metadata": {},
   "source": [
    "### B. Menangani Duplicate data"
   ]
  },
  {
   "cell_type": "markdown",
   "id": "honey-cable",
   "metadata": {},
   "source": [
    "> Dari pengecekan diatas terlihat bahwa hanya dataset game chess yang memiliki duplicate data.\n",
    "Oleh karena itu kita hanya akan melakukan penanganan duplicate data pada dataset game chess saja."
   ]
  },
  {
   "cell_type": "code",
   "execution_count": 25,
   "id": "strong-pacific",
   "metadata": {},
   "outputs": [
    {
     "name": "stdout",
     "output_type": "stream",
     "text": [
      "0\n"
     ]
    }
   ],
   "source": [
    "df2.drop_duplicates(keep=False,inplace=True)\n",
    "print(df2.duplicated().sum())"
   ]
  },
  {
   "cell_type": "markdown",
   "id": "molecular-johns",
   "metadata": {},
   "source": [
    "### C. Menangani Outlier"
   ]
  },
  {
   "cell_type": "markdown",
   "id": "descending-growing",
   "metadata": {},
   "source": [
    "#### a. Dataset fake_job_postings"
   ]
  },
  {
   "cell_type": "code",
   "execution_count": 26,
   "id": "peripheral-trash",
   "metadata": {},
   "outputs": [
    {
     "name": "stdout",
     "output_type": "stream",
     "text": [
      "telecommuting =  767\n",
      "has_company_logo =  3660\n",
      "fraudulent =  866\n"
     ]
    }
   ],
   "source": [
    "num_cols_1 = df1_new.select_dtypes([np.number])\n",
    "cek_outlier(num_cols_1)"
   ]
  },
  {
   "cell_type": "markdown",
   "id": "judicial-armstrong",
   "metadata": {},
   "source": [
    "Dari data diatas terlihat bahwa terdapat outliers di beberapa fitur. Jika kita analisis lebih dalam lagi, fitur2 tersebut hanya mempunyai 2 nilai yaitu 1 dan 0 outlier pada tiap fitur yang mana menunjukan true or false pada fitur tersebut. Oleh karena itu, outlier pada fitur tersebut bukanlah keanehan atau kesalahan pada  pengumpulan data sehingga tidak perlu aksi apapun"
   ]
  },
  {
   "cell_type": "markdown",
   "id": "excess-honor",
   "metadata": {},
   "source": [
    "#### b. Dataset game chess"
   ]
  },
  {
   "cell_type": "code",
   "execution_count": 27,
   "id": "several-steps",
   "metadata": {},
   "outputs": [
    {
     "name": "stdout",
     "output_type": "stream",
     "text": [
      "created_at =  1759\n",
      "last_move_at =  1759\n",
      "turns =  413\n",
      "white_rating =  131\n",
      "black_rating =  99\n",
      "opening_ply =  854\n"
     ]
    }
   ],
   "source": [
    "num_cols_2 = df2.select_dtypes([np.number])\n",
    "cek_outlier(num_cols_2)"
   ]
  },
  {
   "cell_type": "code",
   "execution_count": 28,
   "id": "prospective-bidder",
   "metadata": {},
   "outputs": [
    {
     "data": {
      "text/plain": [
       "array(['created_at', 'last_move_at', 'turns', 'white_rating',\n",
       "       'black_rating', 'opening_ply'], dtype='<U12')"
      ]
     },
     "execution_count": 28,
     "metadata": {},
     "output_type": "execute_result"
    }
   ],
   "source": [
    "new = list(set(list_outlier))\n",
    "new = np.array(['created_at','last_move_at','turns','white_rating','black_rating','opening_ply'])\n",
    "new"
   ]
  },
  {
   "cell_type": "code",
   "execution_count": 29,
   "id": "varied-passenger",
   "metadata": {},
   "outputs": [
    {
     "data": {
      "image/png": "[encoded data removed]",
      "text/plain": [
       "<Figure size 432x288 with 6 Axes>"
      ]
     },
     "metadata": {
      "needs_background": "light"
     },
     "output_type": "display_data"
    }
   ],
   "source": [
    "f, axes = plt.subplots(round(len(new)/3), 3)  \n",
    "y = 0;\n",
    "for name in new:\n",
    "    i, j = divmod(y, 3)\n",
    "    sns.boxplot(x=num_cols_2[name], ax=axes[i, j])\n",
    "    y = y+1\n",
    "plt.tight_layout()\n",
    "plt.show()"
   ]
  },
  {
   "cell_type": "markdown",
   "id": "ruled-kelly",
   "metadata": {},
   "source": [
    "Dari data diatas terlihat bahwa terdapat outliers di beberapa fitur. Berikut ini adalah analisis outlier tiap fitur berdasarkan gambar diatas:\n",
    "1. Pada fitur created_at dan fitur last_move_at tidak perlu aksi apapun karena waktu mulai dan waktu berakhir bisa kapan saja sehingga pada fitur tersebut dapat disimpulkan tidak ada keanehan pada data\n",
    "2. Pada fitue turn tidak perlu melakukan aksi apapun karena setiap pemain dapat memiliki beberapa putaran yang tidak terbatas sehingga pada fitur tersebut dapat disimpulkan tidak ada keanehan pada data\n",
    "3. Pada fitur white_rating dan black_rating tidak perlu melakukan aksi apapun karena tidak terdapat outlier yang jauh dan masih wajar jika terdapat outlier pada nilai tersebut.\n",
    "4. Pada fitur opening_ply tidak perlu melakukan aksi apapun karena tidak terdapat outlier yang jauh dan masih wajar jika terdapat outlier pada nilai tersebut."
   ]
  },
  {
   "cell_type": "markdown",
   "id": "differential-melissa",
   "metadata": {},
   "source": [
    "### D. Data Transformation"
   ]
  },
  {
   "cell_type": "markdown",
   "id": "owned-arabic",
   "metadata": {},
   "source": [
    "##### a. Dataset fake_job_postings"
   ]
  },
  {
   "cell_type": "markdown",
   "id": "qualified-frontier",
   "metadata": {},
   "source": [
    "Fitur telecommuting, has_company_logo, has_questions , location,department,salary_range,employment_type, required_experience, required_education, industry, function."
   ]
  },
  {
   "cell_type": "code",
   "execution_count": 30,
   "id": "corporate-direction",
   "metadata": {},
   "outputs": [
    {
     "name": "stdout",
     "output_type": "stream",
     "text": [
      "   telecommuting  has_company_logo  has_questions  fraudulent\n",
      "0              0                 1              0           0\n",
      "1              0                 1              0           0\n",
      "2              0                 1              0           0\n",
      "3              0                 1              0           0\n",
      "4              0                 1              1           0\n",
      "             location department employment_type required_experience  \\\n",
      "0    US, NY, New York  Marketing           Other          Internship   \n",
      "1      NZ, , Auckland    Success       Full-time      Not Applicable   \n",
      "2       US, IA, Wever      Sales       Full-time    Mid-Senior level   \n",
      "3  US, DC, Washington      Sales       Full-time    Mid-Senior level   \n",
      "4  US, FL, Fort Worth      Sales       Full-time    Mid-Senior level   \n",
      "\n",
      "  required_education                             industry  \\\n",
      "0  Bachelor's Degree  Information Technology and Services   \n",
      "1  Bachelor's Degree            Marketing and Advertising   \n",
      "2  Bachelor's Degree  Information Technology and Services   \n",
      "3  Bachelor's Degree                    Computer Software   \n",
      "4  Bachelor's Degree               Hospital & Health Care   \n",
      "\n",
      "                 function  \n",
      "0               Marketing  \n",
      "1        Customer Service  \n",
      "2  Information Technology  \n",
      "3                   Sales  \n",
      "4    Health Care Provider  \n"
     ]
    }
   ],
   "source": [
    "df1_new_num = df1_new.select_dtypes([np.number])\n",
    "df1_new_cat = df1_new.select_dtypes(exclude=[np.number])\n",
    "print(df1_new_num.head())\n",
    "print(df1_new_cat.head())"
   ]
  },
  {
   "cell_type": "markdown",
   "id": "secure-belief",
   "metadata": {},
   "source": [
    "#### b. Dataset games chess"
   ]
  },
  {
   "cell_type": "markdown",
   "id": "handy-auction",
   "metadata": {},
   "source": [
    "- Fitur2 yang berpengaruh dalam mendeteksi target pemenang dalam permainan chess adalah : Fitur turns, white_rating, black_rating, opening_ply,victory_status,rated,opening_eco,dan increment_code.\n",
    "- Hal itu dipertimbangkan karena saya tidak menggunakan NLP pada project ini lalu saya juga mempertimbangkan bagaimana fiturnya tidak mepengaruhi dalam memprediksi target class"
   ]
  },
  {
   "cell_type": "code",
   "execution_count": 31,
   "id": "developmental-phenomenon",
   "metadata": {},
   "outputs": [],
   "source": [
    "df2_new=df2\n",
    "df2_new= df2_new.drop(['id','created_at','moves','opening_name','white_id','black_id','last_move_at'],axis=1)"
   ]
  },
  {
   "cell_type": "code",
   "execution_count": 32,
   "id": "upper-teens",
   "metadata": {},
   "outputs": [
    {
     "name": "stdout",
     "output_type": "stream",
     "text": [
      "   turns  white_rating  black_rating  opening_ply\n",
      "0     13          1500          1191            5\n",
      "1     16          1322          1261            4\n",
      "2     61          1496          1500            3\n",
      "3     61          1439          1454            3\n",
      "4     95          1523          1469            5\n",
      "   rated victory_status winner increment_code opening_eco\n",
      "0  False      outoftime  white           15+2         D10\n",
      "1   True         resign  black           5+10         B00\n",
      "2   True           mate  white           5+10         C20\n",
      "3   True           mate  white           20+0         D02\n",
      "4   True           mate  white           30+3         C41\n"
     ]
    }
   ],
   "source": [
    "df2_new_num = df2_new.select_dtypes([np.number])\n",
    "df2_new_cat = df2_new.select_dtypes(exclude=[np.number])\n",
    "print(df2_new_num.head())\n",
    "print(df2_new_cat.head())"
   ]
  },
  {
   "cell_type": "markdown",
   "id": "operating-reasoning",
   "metadata": {},
   "source": [
    "### E. Menangani Categorical Variable"
   ]
  },
  {
   "cell_type": "markdown",
   "id": "abandoned-ontario",
   "metadata": {},
   "source": [
    "#### a. Dataset fake_job_postings"
   ]
  },
  {
   "cell_type": "code",
   "execution_count": 33,
   "id": "superb-michael",
   "metadata": {},
   "outputs": [
    {
     "data": {
      "text/plain": [
       "(17880, 4635)"
      ]
     },
     "execution_count": 33,
     "metadata": {},
     "output_type": "execute_result"
    }
   ],
   "source": [
    "#Gunakan One Hot Encoding karena nominal variables bukan ordinal values\n",
    "#dan juga karena beberapa atribut walaupun ranked variables tetapi mempunyai \"Unknown\" value, karena kita tidak bisa memastikan\n",
    "# ranked tersebut maka tidak dapat diubah ke ordinal variable untuk menggunakan Label Encoding \n",
    "df1_new_cat=pd.get_dummies(df1_new_cat)\n",
    "df1_new_cat.shape"
   ]
  },
  {
   "cell_type": "markdown",
   "id": "polyphonic-neighborhood",
   "metadata": {},
   "source": [
    "#### b. Dataset games chess"
   ]
  },
  {
   "cell_type": "code",
   "execution_count": 34,
   "id": "flying-works",
   "metadata": {},
   "outputs": [
    {
     "name": "stderr",
     "output_type": "stream",
     "text": [
      "c:\\users\\asus vivobook user\\appdata\\local\\programs\\python\\python37\\lib\\site-packages\\ipykernel_launcher.py:10: SettingWithCopyWarning: \n",
      "A value is trying to be set on a copy of a slice from a DataFrame.\n",
      "Try using .loc[row_indexer,col_indexer] = value instead\n",
      "\n",
      "See the caveats in the documentation: https://pandas.pydata.org/pandas-docs/stable/user_guide/indexing.html#returning-a-view-versus-a-copy\n",
      "  # Remove the CWD from sys.path while we load stuff.\n"
     ]
    }
   ],
   "source": [
    "#Gunakan Label Encoding\n",
    "#target = df2_new_cat.winner.replace({'black':0,'white':1,'draw':2})\n",
    "#df2_new_cat=pd.get_dummies(df2_new_cat.drop(columns=['winner']))\n",
    "#df2_new_cat[\"rated\"] = df2_new_cat[\"rated\"].astype(int)\n",
    "#df2_new_cat.shape\n",
    "\n",
    "from sklearn.preprocessing import LabelEncoder\n",
    "label_encoder = LabelEncoder()\n",
    "for col in df2_new_cat:\n",
    "    df2_new_cat[col] = label_encoder.fit_transform(df2_new_cat[col])"
   ]
  },
  {
   "cell_type": "markdown",
   "id": "affiliated-polyester",
   "metadata": {},
   "source": [
    "### F. Scalling"
   ]
  },
  {
   "cell_type": "code",
   "execution_count": 35,
   "id": "checked-allah",
   "metadata": {
    "scrolled": true
   },
   "outputs": [
    {
     "name": "stderr",
     "output_type": "stream",
     "text": [
      "c:\\users\\asus vivobook user\\appdata\\local\\programs\\python\\python37\\lib\\site-packages\\ipykernel_launcher.py:5: SettingWithCopyWarning: \n",
      "A value is trying to be set on a copy of a slice from a DataFrame.\n",
      "Try using .loc[row_indexer,col_indexer] = value instead\n",
      "\n",
      "See the caveats in the documentation: https://pandas.pydata.org/pandas-docs/stable/user_guide/indexing.html#returning-a-view-versus-a-copy\n",
      "  \"\"\"\n"
     ]
    }
   ],
   "source": [
    "for i in ['turns','white_rating','black_rating']:\n",
    "    col = df2_new_num[i]\n",
    "    diff = col.max() - col.min()\n",
    "    bins = np.digitize(col, np.arange(col.min(), col.max(), (diff/10)).tolist())\n",
    "    df2_new_num[i] = bins"
   ]
  },
  {
   "cell_type": "markdown",
   "id": "adult-driving",
   "metadata": {},
   "source": [
    "# Soal 2(b)"
   ]
  },
  {
   "cell_type": "markdown",
   "id": "usual-friendly",
   "metadata": {},
   "source": [
    "### Data Cleaned"
   ]
  },
  {
   "cell_type": "markdown",
   "id": "offshore-quarter",
   "metadata": {},
   "source": [
    "#### a. Dataset fake_job_postings"
   ]
  },
  {
   "cell_type": "code",
   "execution_count": 36,
   "id": "assured-census",
   "metadata": {},
   "outputs": [
    {
     "data": {
      "text/plain": [
       "(17880, 4639)"
      ]
     },
     "execution_count": 36,
     "metadata": {},
     "output_type": "execute_result"
    }
   ],
   "source": [
    "#Gabungkan numeric dan variable\n",
    "result = [df1_new_num,df1_new_cat]\n",
    "df_cleaned_1 = pd.concat(result, axis=1, join='inner')\n",
    "df_cleaned_1.shape"
   ]
  },
  {
   "cell_type": "markdown",
   "id": "approved-filling",
   "metadata": {},
   "source": [
    "#### b. Dataset games chess"
   ]
  },
  {
   "cell_type": "code",
   "execution_count": 37,
   "id": "binding-harassment",
   "metadata": {},
   "outputs": [
    {
     "data": {
      "text/plain": [
       "(19242, 9)"
      ]
     },
     "execution_count": 37,
     "metadata": {},
     "output_type": "execute_result"
    }
   ],
   "source": [
    "#Gabungkan numeric dan variable\n",
    "result2 = [df2_new_num,df2_new_cat]\n",
    "df_cleaned_2 = pd.concat(result2, axis=1, join='inner')\n",
    "df_cleaned_2.shape"
   ]
  },
  {
   "cell_type": "markdown",
   "id": "sublime-front",
   "metadata": {},
   "source": [
    "# 4. Menyiapkan Data"
   ]
  },
  {
   "cell_type": "markdown",
   "id": "innocent-fireplace",
   "metadata": {},
   "source": [
    "#### a. Dataset fake_job_postings"
   ]
  },
  {
   "cell_type": "markdown",
   "id": "trained-column",
   "metadata": {},
   "source": [
    "Target pada dataset ini adalah fitur fraudulent yang memiliki nilai 0 dan 1. Nilai 0 berarti job posting tersebut asli dan Nilai 1 berarti job posting tersebut palsu "
   ]
  },
  {
   "cell_type": "code",
   "execution_count": 38,
   "id": "still-smell",
   "metadata": {},
   "outputs": [],
   "source": [
    "X_df1 = df_cleaned_1.drop(['fraudulent'],axis=1)\n",
    "y_df1 = df_cleaned_1['fraudulent']"
   ]
  },
  {
   "cell_type": "markdown",
   "id": "quarterly-practice",
   "metadata": {},
   "source": [
    "#### b. Dataset games chess"
   ]
  },
  {
   "cell_type": "markdown",
   "id": "refined-billion",
   "metadata": {},
   "source": [
    "Target pada dataset ini adalah fitur winner yang memnentukan siapa pemenang dalam permainan. 0 adalah hitam, 1 adalah putih, dan 2 adalah draw"
   ]
  },
  {
   "cell_type": "code",
   "execution_count": 39,
   "id": "growing-jefferson",
   "metadata": {},
   "outputs": [],
   "source": [
    "X_df2 = df_cleaned_2.drop(['winner'],axis=1)\n",
    "y_df2 = df_cleaned_2['winner']"
   ]
  },
  {
   "cell_type": "markdown",
   "id": "adjusted-excellence",
   "metadata": {},
   "source": [
    "###  Data Upsampling"
   ]
  },
  {
   "cell_type": "markdown",
   "id": "union-client",
   "metadata": {},
   "source": [
    "Karena dataset imbalanced(dataset tidak siembang), terdapat dua teknik yang harus dilakukan untuk menangani kumpulan data yang tidak seimbang, yaitu oversampling atau undersampling. Jika datanya terlalu besar kita dapat melakukan down sampling, tetapi karena dataset ini tidak terlalu besar, maka lakukan oversampling"
   ]
  },
  {
   "cell_type": "markdown",
   "id": "compliant-island",
   "metadata": {},
   "source": [
    "#### a. Dataset fake_job_postings"
   ]
  },
  {
   "cell_type": "code",
   "execution_count": 40,
   "id": "cleared-teddy",
   "metadata": {},
   "outputs": [
    {
     "name": "stdout",
     "output_type": "stream",
     "text": [
      "Distribution of fraudulent : 17014 & 866\n"
     ]
    },
    {
     "data": {
      "text/plain": [
       "<AxesSubplot:>"
      ]
     },
     "execution_count": 40,
     "metadata": {},
     "output_type": "execute_result"
    },
    {
     "data": {
      "image/png": "[encoded data removed]",
      "text/plain": [
       "<Figure size 432x288 with 1 Axes>"
      ]
     },
     "metadata": {
      "needs_background": "light"
     },
     "output_type": "display_data"
    }
   ],
   "source": [
    "count = Counter(y_df1)\n",
    "print('Distribution of fraudulent :', count[0], '&', count[1])\n",
    "y_df1.hist()"
   ]
  },
  {
   "cell_type": "code",
   "execution_count": 41,
   "id": "ordered-flush",
   "metadata": {},
   "outputs": [
    {
     "name": "stdout",
     "output_type": "stream",
     "text": [
      "Distribution of fraudulent: 17014 & 17014\n"
     ]
    },
    {
     "data": {
      "text/plain": [
       "<AxesSubplot:>"
      ]
     },
     "execution_count": 41,
     "metadata": {},
     "output_type": "execute_result"
    },
    {
     "data": {
      "image/png": "[encoded data removed]",
      "text/plain": [
       "<Figure size 432x288 with 1 Axes>"
      ]
     },
     "metadata": {
      "needs_background": "light"
     },
     "output_type": "display_data"
    }
   ],
   "source": [
    "smote = SMOTE()\n",
    "X_df1, y_df1 = smote.fit_resample(X_df1, y_df1)\n",
    "count = Counter(y_df1)\n",
    "print('Distribution of fraudulent:', count[0], '&', count[1])\n",
    "y_df1.hist()"
   ]
  },
  {
   "cell_type": "markdown",
   "id": "faced-distinction",
   "metadata": {},
   "source": [
    "#### b. Dataset games chess"
   ]
  },
  {
   "cell_type": "code",
   "execution_count": 42,
   "id": "parliamentary-darkness",
   "metadata": {},
   "outputs": [
    {
     "name": "stdout",
     "output_type": "stream",
     "text": [
      "Distribution of Winner :  8751 & 886 & 9605\n"
     ]
    },
    {
     "data": {
      "text/plain": [
       "<AxesSubplot:>"
      ]
     },
     "execution_count": 42,
     "metadata": {},
     "output_type": "execute_result"
    },
    {
     "data": {
      "image/png": "[encoded data removed]",
      "text/plain": [
       "<Figure size 432x288 with 1 Axes>"
      ]
     },
     "metadata": {
      "needs_background": "light"
     },
     "output_type": "display_data"
    }
   ],
   "source": [
    "count2 = Counter(y_df2)\n",
    "print('Distribution of Winner : ' , count2[0], '&', count2[1] ,'&', count2[2] )\n",
    "y_df2.hist()"
   ]
  },
  {
   "cell_type": "code",
   "execution_count": 43,
   "id": "corporate-benjamin",
   "metadata": {},
   "outputs": [
    {
     "name": "stdout",
     "output_type": "stream",
     "text": [
      "Distribution of fraudulent: 9605 & 9605 & 9605\n"
     ]
    },
    {
     "data": {
      "text/plain": [
       "<AxesSubplot:>"
      ]
     },
     "execution_count": 43,
     "metadata": {},
     "output_type": "execute_result"
    },
    {
     "data": {
      "image/png": "[encoded data removed]",
      "text/plain": [
       "<Figure size 432x288 with 1 Axes>"
      ]
     },
     "metadata": {
      "needs_background": "light"
     },
     "output_type": "display_data"
    }
   ],
   "source": [
    "X_df2, y_df2 = smote.fit_resample(X_df2, y_df2)\n",
    "count2 = Counter(y_df2)\n",
    "print('Distribution of fraudulent:', count2[0], '&', count2[1],'&', count2[2] )\n",
    "y_df2.hist()"
   ]
  },
  {
   "cell_type": "markdown",
   "id": "cooperative-ultimate",
   "metadata": {},
   "source": [
    "### Splitting Data"
   ]
  },
  {
   "cell_type": "code",
   "execution_count": 44,
   "id": "extreme-lincoln",
   "metadata": {},
   "outputs": [],
   "source": [
    "X_train_df1, X_test_df1, y_train_df1, y_test_df1 = train_test_split(X_df1, y_df1, test_size=0.2, random_state = 0, shuffle= True,stratify = y_df1)\n",
    "X_train_df2, X_test_df2, y_train_df2, y_test_df2 = train_test_split(X_df2, y_df2, test_size=0.2, random_state = 0, shuffle= True,stratify = y_df2)"
   ]
  },
  {
   "cell_type": "markdown",
   "id": "structured-hearing",
   "metadata": {},
   "source": [
    "# 5.Model Building"
   ]
  },
  {
   "cell_type": "markdown",
   "id": "mounted-power",
   "metadata": {},
   "source": [
    "# Soal 3(a)"
   ]
  },
  {
   "cell_type": "markdown",
   "id": "brutal-installation",
   "metadata": {},
   "source": [
    "### Menggunakan Algoritma Naive Buyes"
   ]
  },
  {
   "cell_type": "markdown",
   "id": "bearing-laptop",
   "metadata": {},
   "source": [
    "#### a. Dataset fake_job_postings"
   ]
  },
  {
   "cell_type": "code",
   "execution_count": 45,
   "id": "victorian-constitution",
   "metadata": {},
   "outputs": [],
   "source": [
    "model_df1_naive = GaussianNB()\n",
    "model_df1_naive.fit(X_train_df1, y_train_df1)\n",
    "pred_df1 = model_df1_naive.predict(X_test_df1)"
   ]
  },
  {
   "cell_type": "markdown",
   "id": "weekly-acoustic",
   "metadata": {},
   "source": [
    "#### b. Dataset games chess"
   ]
  },
  {
   "cell_type": "code",
   "execution_count": 46,
   "id": "affecting-advice",
   "metadata": {},
   "outputs": [],
   "source": [
    "model_df2_naive = GaussianNB()\n",
    "model_df2_naive.fit(X_train_df2, y_train_df2)\n",
    "pred_df2 = model_df2_naive.predict(X_test_df2)"
   ]
  },
  {
   "cell_type": "markdown",
   "id": "binding-blood",
   "metadata": {},
   "source": [
    "# Soal 3(b)"
   ]
  },
  {
   "cell_type": "markdown",
   "id": "fluid-shooting",
   "metadata": {},
   "source": [
    "### Menggunakan Algoritma K-Nearest Neighbor"
   ]
  },
  {
   "cell_type": "markdown",
   "id": "committed-tender",
   "metadata": {},
   "source": [
    "#### a. Dataset fake_job_postings"
   ]
  },
  {
   "cell_type": "code",
   "execution_count": 47,
   "id": "therapeutic-consultancy",
   "metadata": {},
   "outputs": [],
   "source": [
    "k_range=list(range(1, 10, 2))\n",
    "param_grid = dict(n_neighbors = k_range)"
   ]
  },
  {
   "cell_type": "code",
   "execution_count": 48,
   "id": "national-roberts",
   "metadata": {},
   "outputs": [],
   "source": [
    "grid_knn_df1 = GridSearchCV(KNeighborsClassifier(), param_grid,cv=5)\n",
    "grid_knn_df1.fit(X_train_df1, y_train_df1)\n",
    "pred_knn_df1 = grid_knn_df1.predict(X_test_df1)"
   ]
  },
  {
   "cell_type": "markdown",
   "id": "excess-practitioner",
   "metadata": {},
   "source": [
    "#### b. Dataset games chess"
   ]
  },
  {
   "cell_type": "code",
   "execution_count": 54,
   "id": "better-invite",
   "metadata": {},
   "outputs": [],
   "source": [
    "grid_knn_df2 = GridSearchCV(KNeighborsClassifier(), param_grid,cv=5)\n",
    "grid_knn_df2.fit(X_train_df2, y_train_df2)\n",
    "pred_knn_df2 = grid_knn_df2.predict(X_test_df2)"
   ]
  },
  {
   "cell_type": "markdown",
   "id": "distant-jefferson",
   "metadata": {},
   "source": [
    "# Soal 3(c)"
   ]
  },
  {
   "cell_type": "markdown",
   "id": "statutory-threat",
   "metadata": {},
   "source": [
    "### Metrik Evaluasi "
   ]
  },
  {
   "cell_type": "markdown",
   "id": "planned-compound",
   "metadata": {},
   "source": [
    "#### a. Dataset fake_job_postings"
   ]
  },
  {
   "cell_type": "code",
   "execution_count": 49,
   "id": "searching-guatemala",
   "metadata": {
    "scrolled": true
   },
   "outputs": [
    {
     "name": "stdout",
     "output_type": "stream",
     "text": [
      "Hasil prediksi model menggunakan Naive Buyes\n",
      "Accuracy:     82.74%\n",
      "Precision: 74.59%\n",
      "Recall:    99.29%\n",
      "F1 Score:    85.19%\n"
     ]
    }
   ],
   "source": [
    "a_naive = accuracy_score(y_test_df1,pred_df1)\n",
    "p_naive = precision_score(y_test_df1,pred_df1)\n",
    "r_naive = recall_score(y_test_df1,pred_df1) \n",
    "f_naive = f1_score(y_test_df1,pred_df1)\n",
    "print('Hasil prediksi model menggunakan Naive Buyes')\n",
    "print('Accuracy:     ' + str(round(a_naive*100, 2)) + '%')\n",
    "print('Precision: ' +str(round(p_naive*100, 2)) + '%')\n",
    "print('Recall:    '+ str(round(r_naive*100, 2)) + '%')\n",
    "print('F1 Score:    '+ str(round(f_naive*100, 2)) + '%')\n"
   ]
  },
  {
   "cell_type": "code",
   "execution_count": 52,
   "id": "minus-worse",
   "metadata": {},
   "outputs": [
    {
     "name": "stdout",
     "output_type": "stream",
     "text": [
      "Hasil prediksi model menggunakan K-Nearest Neighbor\n",
      "Accuracy:     89.47%\n",
      "Precision: 83.23%\n",
      "Recall:    98.85%\n",
      "F1 Score:    90.37%\n"
     ]
    }
   ],
   "source": [
    "a_knn = accuracy_score(y_test_df1,pred_knn_df1)\n",
    "p_knn = precision_score(y_test_df1,pred_knn_df1)\n",
    "r_knn = recall_score(y_test_df1,pred_knn_df1)\n",
    "f_knn = f1_score(y_test_df1,pred_knn_df1)\n",
    "print('Hasil prediksi model menggunakan K-Nearest Neighbor')\n",
    "print('Accuracy:     ' + str(round(a_knn*100, 2)) + '%')\n",
    "print('Precision: ' +str(round(p_knn*100, 2)) + '%')\n",
    "print('Recall:    '+ str(round(r_knn*100,2)) + '%')\n",
    "print('F1 Score:    '+ str(round(f_knn*100, 2)) + '%')"
   ]
  },
  {
   "cell_type": "markdown",
   "id": "promotional-wagon",
   "metadata": {},
   "source": [
    "#### b. Dataset games chess"
   ]
  },
  {
   "cell_type": "code",
   "execution_count": 50,
   "id": "supreme-vertex",
   "metadata": {},
   "outputs": [
    {
     "name": "stdout",
     "output_type": "stream",
     "text": [
      "Hasil prediksi model menggunakan Naive Buyes\n",
      "Accuracy:     73.03%\n",
      "Precision: 73.03%\n",
      "Recall:    73.03%\n",
      "F1 Score:    73.03%\n"
     ]
    }
   ],
   "source": [
    "a_naive_2 = accuracy_score(y_test_df2,pred_df2)\n",
    "p_naive_2 = precision_score(y_test_df2,pred_df2,average='micro')\n",
    "r_naive_2 = recall_score(y_test_df2,pred_df2,average='micro') \n",
    "f_naive_2 = f1_score(y_test_df2,pred_df2,average='micro')\n",
    "print('Hasil prediksi model menggunakan Naive Buyes')\n",
    "print('Accuracy:     ' + str(round(a_naive_2*100, 2)) + '%')\n",
    "print('Precision: ' +str(round(p_naive_2*100, 2)) + '%')\n",
    "print('Recall:    '+ str(round(r_naive_2*100,2)) + '%')\n",
    "print('F1 Score:    '+ str(round(f_naive_2*100, 2)) + '%')"
   ]
  },
  {
   "cell_type": "code",
   "execution_count": 55,
   "id": "saving-numbers",
   "metadata": {},
   "outputs": [
    {
     "name": "stdout",
     "output_type": "stream",
     "text": [
      "Hasil prediksi model menggunakan K-Nearest Neighbor\n",
      "Accuracy:     69.82%\n",
      "Precision: 69.82%\n",
      "Recall:    69.82%\n",
      "F1 Score:    69.82%\n"
     ]
    }
   ],
   "source": [
    "a_knn_2 = accuracy_score(y_test_df2,pred_knn_df2)\n",
    "p_knn_2 = precision_score(y_test_df2,pred_knn_df2,average='micro')\n",
    "r_knn_2 = recall_score(y_test_df2,pred_knn_df2,average='micro')\n",
    "f_knn_2 = f1_score(y_test_df2,pred_knn_df2,average='micro')\n",
    "print('Hasil prediksi model menggunakan K-Nearest Neighbor')\n",
    "print('Accuracy:     ' + str(round(a_knn_2*100, 2)) + '%')\n",
    "print('Precision: ' +str(round(p_knn_2*100, 2)) + '%')\n",
    "print('Recall:    '+ str(round(r_knn_2*100,2)) + '%')\n",
    "print('F1 Score:    '+ str(round(f_knn_2*100, 2)) + '%')"
   ]
  },
  {
   "cell_type": "markdown",
   "id": "auburn-rates",
   "metadata": {},
   "source": [
    "# Saoal 4"
   ]
  },
  {
   "cell_type": "markdown",
   "id": "secure-imagination",
   "metadata": {},
   "source": [
    "###  Menggunakan Algoritma SVC dan linear SVC pada Dataset Fake Job Posting"
   ]
  },
  {
   "cell_type": "markdown",
   "id": "documentary-mistake",
   "metadata": {},
   "source": [
    "#### SVC"
   ]
  },
  {
   "cell_type": "code",
   "execution_count": 56,
   "id": "black-convertible",
   "metadata": {},
   "outputs": [],
   "source": [
    "param_grid = dict(C = k_range)\n",
    "clf_grid_svc = GridSearchCV(SVC(),param_grid,cv=5)\n",
    "\n",
    "clf_grid_svc.fit(X_train_df1,y_train_df1)\n",
    "\n",
    "pred_df1_svc = clf_grid_svc.predict(X_test_df1)"
   ]
  },
  {
   "cell_type": "code",
   "execution_count": 57,
   "id": "established-blowing",
   "metadata": {},
   "outputs": [
    {
     "name": "stdout",
     "output_type": "stream",
     "text": [
      "Hasil prediksi model menggunakan SVC\n",
      "Accuracy:     98.8%\n",
      "Precision: 99.4%\n",
      "Recall:    98.18%\n",
      "F1 Score:    98.79%\n"
     ]
    }
   ],
   "source": [
    "a_svc = accuracy_score(y_test_df1,pred_df1_svc)\n",
    "p_svc = precision_score(y_test_df1,pred_df1_svc)\n",
    "r_svc = recall_score(y_test_df1,pred_df1_svc)\n",
    "f_svc = f1_score(y_test_df1,pred_df1_svc)\n",
    "print('Hasil prediksi model menggunakan SVC')\n",
    "print('Accuracy:     ' + str(round(a_svc*100, 2)) + '%')\n",
    "print('Precision: ' +str(round(p_svc*100, 2)) + '%')\n",
    "print('Recall:    '+ str(round(r_svc*100,2)) + '%')\n",
    "print('F1 Score:    '+ str(round(f_svc*100, 2)) + '%')"
   ]
  },
  {
   "cell_type": "markdown",
   "id": "super-deployment",
   "metadata": {},
   "source": [
    "# Soal 5"
   ]
  },
  {
   "cell_type": "markdown",
   "id": "close-running",
   "metadata": {},
   "source": [
    "### Menggunakan Algoritma Random Forest DecisionTreeClassifier pada Dataset Game Chess"
   ]
  },
  {
   "cell_type": "code",
   "execution_count": 51,
   "id": "enclosed-pressure",
   "metadata": {},
   "outputs": [
    {
     "name": "stdout",
     "output_type": "stream",
     "text": [
      "Random Forest Accuracy:     74.32%\n",
      "Random Forest Precision:    74.32%\n",
      "Random Forest Recall:    74.32%\n",
      "Random Forest F1-Score:    74.32%\n",
      "\n",
      "\n",
      "DecisionTreeClassifier Accuracy:     72.71%\n",
      "DecisionTreeClassifier Precision:    72.71%\n",
      "DecisionTreeClassifier Recall:    72.71%\n",
      "DecisionTreeClassifier F1-Score:    72.71%\n",
      "\n",
      "\n"
     ]
    }
   ],
   "source": [
    "classifiers = [[RandomForestClassifier(),'Random Forest'], [DecisionTreeClassifier(), 'DecisionTreeClassifier']]\n",
    "\n",
    "accuracy_list = []\n",
    "precision_list = []\n",
    "recall_list = []\n",
    "f1score_list = []\n",
    "\n",
    "for classifier in classifiers:\n",
    "    model = classifier[0]\n",
    "    model_name = classifier[1]\n",
    "    \n",
    "    cls= model.fit(X_train_df2, y_train_df2)\n",
    "    \n",
    "    pred = cls.predict(X_test_df2)\n",
    "\n",
    "    accuracy = accuracy_score(y_test_df2,pred)\n",
    "    precision = precision_score(y_test_df2,pred,average='micro') \n",
    "    recall= recall_score(y_test_df2,pred,average='micro') \n",
    "    f1score= f1_score(y_test_df2,pred,average='micro')\n",
    "\n",
    "   \n",
    "    \n",
    "    accuracy_list.append(accuracy)\n",
    "    precision_list.append(recall)\n",
    "    recall_list.append(accuracy)\n",
    "    f1score_list.append(recall)\n",
    "    \n",
    "   \n",
    "    print(model_name, 'Accuracy:     ' + str(round(accuracy*100, 2)) + '%')\n",
    "    print(model_name,'Precision:    '+ str(round(precision*100, 2)) + '%')\n",
    "    print(model_name,'Recall:    '+ str(round(recall*100, 2)) + '%')\n",
    "    print(model_name,'F1-Score:    '+ str(round(f1score*100, 2)) + '%')\n",
    "    \n",
    "    print(\"\\n\")\n"
   ]
  },
  {
   "cell_type": "code",
   "execution_count": null,
   "id": "complex-comedy",
   "metadata": {},
   "outputs": [],
   "source": []
  }
 ],
 "metadata": {
  "kernelspec": {
   "display_name": "Python 3",
   "language": "python",
   "name": "python3"
  },
  "language_info": {
   "codemirror_mode": {
    "name": "ipython",
    "version": 3
   },
   "file_extension": ".py",
   "mimetype": "text/x-python",
   "name": "python",
   "nbconvert_exporter": "python",
   "pygments_lexer": "ipython3",
   "version": "3.7.8"
  }
 },
 "nbformat": 4,
 "nbformat_minor": 5
}
